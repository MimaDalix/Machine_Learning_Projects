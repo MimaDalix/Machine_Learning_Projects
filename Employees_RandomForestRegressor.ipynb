{
 "cells": [
  {
   "cell_type": "code",
   "execution_count": 22,
   "metadata": {},
   "outputs": [],
   "source": [
    "import pandas as pd\n",
    "import sklearn \n",
    "import sklearn.linear_model\n",
    "from sklearn.ensemble import RandomForestRegressor"
   ]
  },
  {
   "cell_type": "code",
   "execution_count": 4,
   "metadata": {},
   "outputs": [],
   "source": [
    "data = pd.read_csv('C:\\\\Users\\\\utilisateur\\\\Downloads\\\\employee_data.csv')"
   ]
  },
  {
   "cell_type": "code",
   "execution_count": 5,
   "metadata": {},
   "outputs": [
    {
     "name": "stdout",
     "output_type": "stream",
     "text": [
      "   Unnamed: 0  id groups  age  healthy_eating  active_lifestyle  salary\n",
      "0           0   0      A   36               5                 5    2297\n",
      "1           1   1      A   55               3                 5    1134\n",
      "2           2   2      A   61               8                 1    4969\n",
      "3           3   3      O   29               3                 6     902\n",
      "4           4   4      O   34               6                 2    3574\n"
     ]
    }
   ],
   "source": [
    "print(data.head())"
   ]
  },
  {
   "cell_type": "code",
   "execution_count": 8,
   "metadata": {},
   "outputs": [],
   "source": [
    "data = data.drop([\"id\", \"groups\"], axis=1)"
   ]
  },
  {
   "cell_type": "code",
   "execution_count": 9,
   "metadata": {},
   "outputs": [
    {
     "name": "stdout",
     "output_type": "stream",
     "text": [
      "   Unnamed: 0  age  healthy_eating  active_lifestyle  salary\n",
      "0           0   36               5                 5    2297\n",
      "1           1   55               3                 5    1134\n",
      "2           2   61               8                 1    4969\n",
      "3           3   29               3                 6     902\n",
      "4           4   34               6                 2    3574\n"
     ]
    }
   ],
   "source": [
    "print(data.head())"
   ]
  },
  {
   "cell_type": "code",
   "execution_count": 10,
   "metadata": {},
   "outputs": [
    {
     "name": "stdout",
     "output_type": "stream",
     "text": [
      "Unnamed: 0          0\n",
      "age                 0\n",
      "healthy_eating      0\n",
      "active_lifestyle    0\n",
      "salary              0\n",
      "dtype: int64\n"
     ]
    }
   ],
   "source": [
    "print(data.isnull().sum())"
   ]
  },
  {
   "cell_type": "code",
   "execution_count": 12,
   "metadata": {},
   "outputs": [],
   "source": [
    "y = data[\"salary\"]"
   ]
  },
  {
   "cell_type": "code",
   "execution_count": 17,
   "metadata": {},
   "outputs": [],
   "source": [
    "data = data.drop([\"salary\"], axis=1)"
   ]
  },
  {
   "cell_type": "code",
   "execution_count": 18,
   "metadata": {},
   "outputs": [],
   "source": [
    "x = data"
   ]
  },
  {
   "cell_type": "code",
   "execution_count": 21,
   "metadata": {},
   "outputs": [],
   "source": [
    "x_train, x_test, y_train , y_test = sklearn.model_selection.train_test_split(x, y, test_size=0.2)"
   ]
  },
  {
   "cell_type": "code",
   "execution_count": 24,
   "metadata": {},
   "outputs": [],
   "source": [
    "reg = RandomForestRegressor(n_estimators=50, random_state=0)"
   ]
  },
  {
   "cell_type": "code",
   "execution_count": 25,
   "metadata": {},
   "outputs": [
    {
     "data": {
      "text/plain": [
       "RandomForestRegressor(n_estimators=50, random_state=0)"
      ]
     },
     "execution_count": 25,
     "metadata": {},
     "output_type": "execute_result"
    }
   ],
   "source": [
    "reg.fit(x_train, y_train)"
   ]
  },
  {
   "cell_type": "code",
   "execution_count": 27,
   "metadata": {},
   "outputs": [
    {
     "name": "stdout",
     "output_type": "stream",
     "text": [
      "[3809.   1449.46  562.16 2764.   2297.   2996.   3096.74  752.4  3228.\n",
      "  992.84 3923.   1369.   2182.   2414.   1155.98 3228.    840.84 1833.\n",
      " 5170.38  758.98 1484.   1948.   2065.   1716.   3923.   3460.   2646.\n",
      " 3569.36 4635.92 2764.   4757.84  678.64  781.82 1833.   2631.38 1020.\n",
      " 1950.   1377.48 1601.   1716.   2646.   3345.   2065.   3228.   2179.\n",
      "  759.38 3809.   2878.   1601.   3691.   4041.   1252.   1349.74 1122.38\n",
      " 3228.   1601.   1366.   2182.   2646.   3460.   1833.   5034.96  781.98\n",
      "  890.8  2297.   2993.   3923.   1484.    683.76 2759.36 2065.   3804.36\n",
      "  784.16 1948.   1716.   2183.64 2182.   2643.   5100.46 3923.   1073.6\n",
      "  917.24 1484.   1598.   1139.18 4642.86 1948.   1252.    906.64 1068.1\n",
      " 2297.   1125.1  2065.   1020.   2297.   2878.   2297.   2068.76 2878.\n",
      " 1833.   2878.   1948.   2529.   1833.   4207.64  788.   2414.   2761.\n",
      " 1252.   1519.68  679.12 3460.   2878.   2065.   1437.8   718.36 2878.\n",
      " 3110.   2878.   4523.56 1950.   4024.24 3110.   2183.64  580.64 2065.\n",
      " 2646.   4420.2  1252.   3569.36 3110.   1252.   2878.   2183.64 2529.\n",
      " 3923.   2414.   2065.   1833.   1484.   3691.   2297.   2045.78 1601.\n",
      " 2878.   4328.68 2765.64 1134.    947.46 2878.   1104.58 1117.46 3110.\n",
      " 1318.24 1252.   1484.   1252.    696.86 2297.   1252.   1003.84 1670.52\n",
      " 1180.86  788.   5018.74 3923.   2065.   2414.   3234.28 1122.38 4452.66\n",
      " 2636.02  787.22 2761.   1602.64 1484.   2988.36 1484.   1252.   3342.\n",
      " 1369.   1601.   4247.8  1950.   1950.    888.04 4069.92 3345.   2179.\n",
      " 2878.    686.1  2014.24 4041.   1602.64 3228.    626.6  1716.   2996.\n",
      " 1021.58 1252.  ]\n"
     ]
    }
   ],
   "source": [
    "y_pred = reg.predict(x_test)\n",
    "print(y_pred)"
   ]
  },
  {
   "cell_type": "code",
   "execution_count": 28,
   "metadata": {},
   "outputs": [
    {
     "name": "stdout",
     "output_type": "stream",
     "text": [
      "0.9950800137956866\n"
     ]
    }
   ],
   "source": [
    "print(reg.score(x_test, y_test))"
   ]
  },
  {
   "cell_type": "code",
   "execution_count": null,
   "metadata": {},
   "outputs": [],
   "source": []
  },
  {
   "cell_type": "code",
   "execution_count": null,
   "metadata": {},
   "outputs": [],
   "source": []
  },
  {
   "cell_type": "code",
   "execution_count": null,
   "metadata": {},
   "outputs": [],
   "source": []
  },
  {
   "cell_type": "code",
   "execution_count": null,
   "metadata": {},
   "outputs": [],
   "source": []
  }
 ],
 "metadata": {
  "kernelspec": {
   "display_name": "Python 3",
   "language": "python",
   "name": "python3"
  },
  "language_info": {
   "codemirror_mode": {
    "name": "ipython",
    "version": 3
   },
   "file_extension": ".py",
   "mimetype": "text/x-python",
   "name": "python",
   "nbconvert_exporter": "python",
   "pygments_lexer": "ipython3",
   "version": "3.8.8"
  }
 },
 "nbformat": 4,
 "nbformat_minor": 4
}
